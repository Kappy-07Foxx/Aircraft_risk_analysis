{
 "cells": [
  {
   "cell_type": "code",
   "execution_count": 1,
   "metadata": {},
   "outputs": [
    {
     "name": "stderr",
     "output_type": "stream",
     "text": [
      "C:\\Users\\pc\\miniconda3\\envs\\learn-env\\lib\\site-packages\\IPython\\core\\interactiveshell.py:3145: DtypeWarning: Columns (6,7,28) have mixed types.Specify dtype option on import or set low_memory=False.\n",
      "  has_raised = await self.run_ast_nodes(code_ast.body, cell_name,\n"
     ]
    },
    {
     "data": {
      "text/html": [
       "<div>\n",
       "<style scoped>\n",
       "    .dataframe tbody tr th:only-of-type {\n",
       "        vertical-align: middle;\n",
       "    }\n",
       "\n",
       "    .dataframe tbody tr th {\n",
       "        vertical-align: top;\n",
       "    }\n",
       "\n",
       "    .dataframe thead th {\n",
       "        text-align: right;\n",
       "    }\n",
       "</style>\n",
       "<table border=\"1\" class=\"dataframe\">\n",
       "  <thead>\n",
       "    <tr style=\"text-align: right;\">\n",
       "      <th></th>\n",
       "      <th>Event.Id</th>\n",
       "      <th>Investigation.Type</th>\n",
       "      <th>Accident.Number</th>\n",
       "      <th>Event.Date</th>\n",
       "      <th>Location</th>\n",
       "      <th>Country</th>\n",
       "      <th>Latitude</th>\n",
       "      <th>Longitude</th>\n",
       "      <th>Airport.Code</th>\n",
       "      <th>Airport.Name</th>\n",
       "      <th>...</th>\n",
       "      <th>Purpose.of.flight</th>\n",
       "      <th>Air.carrier</th>\n",
       "      <th>Total.Fatal.Injuries</th>\n",
       "      <th>Total.Serious.Injuries</th>\n",
       "      <th>Total.Minor.Injuries</th>\n",
       "      <th>Total.Uninjured</th>\n",
       "      <th>Weather.Condition</th>\n",
       "      <th>Broad.phase.of.flight</th>\n",
       "      <th>Report.Status</th>\n",
       "      <th>Publication.Date</th>\n",
       "    </tr>\n",
       "  </thead>\n",
       "  <tbody>\n",
       "    <tr>\n",
       "      <th>0</th>\n",
       "      <td>20001218X45444</td>\n",
       "      <td>Accident</td>\n",
       "      <td>SEA87LA080</td>\n",
       "      <td>1948-10-24</td>\n",
       "      <td>MOOSE CREEK, ID</td>\n",
       "      <td>United States</td>\n",
       "      <td>NaN</td>\n",
       "      <td>NaN</td>\n",
       "      <td>NaN</td>\n",
       "      <td>NaN</td>\n",
       "      <td>...</td>\n",
       "      <td>Personal</td>\n",
       "      <td>NaN</td>\n",
       "      <td>2.0</td>\n",
       "      <td>0.0</td>\n",
       "      <td>0.0</td>\n",
       "      <td>0.0</td>\n",
       "      <td>UNK</td>\n",
       "      <td>Cruise</td>\n",
       "      <td>Probable Cause</td>\n",
       "      <td>NaN</td>\n",
       "    </tr>\n",
       "    <tr>\n",
       "      <th>1</th>\n",
       "      <td>20001218X45447</td>\n",
       "      <td>Accident</td>\n",
       "      <td>LAX94LA336</td>\n",
       "      <td>1962-07-19</td>\n",
       "      <td>BRIDGEPORT, CA</td>\n",
       "      <td>United States</td>\n",
       "      <td>NaN</td>\n",
       "      <td>NaN</td>\n",
       "      <td>NaN</td>\n",
       "      <td>NaN</td>\n",
       "      <td>...</td>\n",
       "      <td>Personal</td>\n",
       "      <td>NaN</td>\n",
       "      <td>4.0</td>\n",
       "      <td>0.0</td>\n",
       "      <td>0.0</td>\n",
       "      <td>0.0</td>\n",
       "      <td>UNK</td>\n",
       "      <td>Unknown</td>\n",
       "      <td>Probable Cause</td>\n",
       "      <td>19-09-1996</td>\n",
       "    </tr>\n",
       "    <tr>\n",
       "      <th>2</th>\n",
       "      <td>20061025X01555</td>\n",
       "      <td>Accident</td>\n",
       "      <td>NYC07LA005</td>\n",
       "      <td>1974-08-30</td>\n",
       "      <td>Saltville, VA</td>\n",
       "      <td>United States</td>\n",
       "      <td>36.9222</td>\n",
       "      <td>-81.8781</td>\n",
       "      <td>NaN</td>\n",
       "      <td>NaN</td>\n",
       "      <td>...</td>\n",
       "      <td>Personal</td>\n",
       "      <td>NaN</td>\n",
       "      <td>3.0</td>\n",
       "      <td>NaN</td>\n",
       "      <td>NaN</td>\n",
       "      <td>NaN</td>\n",
       "      <td>IMC</td>\n",
       "      <td>Cruise</td>\n",
       "      <td>Probable Cause</td>\n",
       "      <td>26-02-2007</td>\n",
       "    </tr>\n",
       "    <tr>\n",
       "      <th>3</th>\n",
       "      <td>20001218X45448</td>\n",
       "      <td>Accident</td>\n",
       "      <td>LAX96LA321</td>\n",
       "      <td>1977-06-19</td>\n",
       "      <td>EUREKA, CA</td>\n",
       "      <td>United States</td>\n",
       "      <td>NaN</td>\n",
       "      <td>NaN</td>\n",
       "      <td>NaN</td>\n",
       "      <td>NaN</td>\n",
       "      <td>...</td>\n",
       "      <td>Personal</td>\n",
       "      <td>NaN</td>\n",
       "      <td>2.0</td>\n",
       "      <td>0.0</td>\n",
       "      <td>0.0</td>\n",
       "      <td>0.0</td>\n",
       "      <td>IMC</td>\n",
       "      <td>Cruise</td>\n",
       "      <td>Probable Cause</td>\n",
       "      <td>12-09-2000</td>\n",
       "    </tr>\n",
       "    <tr>\n",
       "      <th>4</th>\n",
       "      <td>20041105X01764</td>\n",
       "      <td>Accident</td>\n",
       "      <td>CHI79FA064</td>\n",
       "      <td>1979-08-02</td>\n",
       "      <td>Canton, OH</td>\n",
       "      <td>United States</td>\n",
       "      <td>NaN</td>\n",
       "      <td>NaN</td>\n",
       "      <td>NaN</td>\n",
       "      <td>NaN</td>\n",
       "      <td>...</td>\n",
       "      <td>Personal</td>\n",
       "      <td>NaN</td>\n",
       "      <td>1.0</td>\n",
       "      <td>2.0</td>\n",
       "      <td>NaN</td>\n",
       "      <td>0.0</td>\n",
       "      <td>VMC</td>\n",
       "      <td>Approach</td>\n",
       "      <td>Probable Cause</td>\n",
       "      <td>16-04-1980</td>\n",
       "    </tr>\n",
       "  </tbody>\n",
       "</table>\n",
       "<p>5 rows × 31 columns</p>\n",
       "</div>"
      ],
      "text/plain": [
       "         Event.Id Investigation.Type Accident.Number  Event.Date  \\\n",
       "0  20001218X45444           Accident      SEA87LA080  1948-10-24   \n",
       "1  20001218X45447           Accident      LAX94LA336  1962-07-19   \n",
       "2  20061025X01555           Accident      NYC07LA005  1974-08-30   \n",
       "3  20001218X45448           Accident      LAX96LA321  1977-06-19   \n",
       "4  20041105X01764           Accident      CHI79FA064  1979-08-02   \n",
       "\n",
       "          Location        Country Latitude Longitude Airport.Code  \\\n",
       "0  MOOSE CREEK, ID  United States      NaN       NaN          NaN   \n",
       "1   BRIDGEPORT, CA  United States      NaN       NaN          NaN   \n",
       "2    Saltville, VA  United States  36.9222  -81.8781          NaN   \n",
       "3       EUREKA, CA  United States      NaN       NaN          NaN   \n",
       "4       Canton, OH  United States      NaN       NaN          NaN   \n",
       "\n",
       "  Airport.Name  ... Purpose.of.flight Air.carrier Total.Fatal.Injuries  \\\n",
       "0          NaN  ...          Personal         NaN                  2.0   \n",
       "1          NaN  ...          Personal         NaN                  4.0   \n",
       "2          NaN  ...          Personal         NaN                  3.0   \n",
       "3          NaN  ...          Personal         NaN                  2.0   \n",
       "4          NaN  ...          Personal         NaN                  1.0   \n",
       "\n",
       "  Total.Serious.Injuries Total.Minor.Injuries Total.Uninjured  \\\n",
       "0                    0.0                  0.0             0.0   \n",
       "1                    0.0                  0.0             0.0   \n",
       "2                    NaN                  NaN             NaN   \n",
       "3                    0.0                  0.0             0.0   \n",
       "4                    2.0                  NaN             0.0   \n",
       "\n",
       "  Weather.Condition  Broad.phase.of.flight   Report.Status Publication.Date  \n",
       "0               UNK                 Cruise  Probable Cause              NaN  \n",
       "1               UNK                Unknown  Probable Cause       19-09-1996  \n",
       "2               IMC                 Cruise  Probable Cause       26-02-2007  \n",
       "3               IMC                 Cruise  Probable Cause       12-09-2000  \n",
       "4               VMC               Approach  Probable Cause       16-04-1980  \n",
       "\n",
       "[5 rows x 31 columns]"
      ]
     },
     "execution_count": 1,
     "metadata": {},
     "output_type": "execute_result"
    }
   ],
   "source": [
    "import pandas as pd\n",
    "df = pd.read_csv(\"aviation_project/Aviation_Data.csv\")\n",
    "df.head()\n"
   ]
  },
  {
   "cell_type": "code",
   "execution_count": 2,
   "metadata": {
    "scrolled": true
   },
   "outputs": [
    {
     "name": "stdout",
     "output_type": "stream",
     "text": [
      "<class 'pandas.core.frame.DataFrame'>\n",
      "RangeIndex: 90348 entries, 0 to 90347\n",
      "Data columns (total 31 columns):\n",
      " #   Column                  Non-Null Count  Dtype  \n",
      "---  ------                  --------------  -----  \n",
      " 0   Event.Id                88889 non-null  object \n",
      " 1   Investigation.Type      90348 non-null  object \n",
      " 2   Accident.Number         88889 non-null  object \n",
      " 3   Event.Date              88889 non-null  object \n",
      " 4   Location                88837 non-null  object \n",
      " 5   Country                 88663 non-null  object \n",
      " 6   Latitude                34382 non-null  object \n",
      " 7   Longitude               34373 non-null  object \n",
      " 8   Airport.Code            50249 non-null  object \n",
      " 9   Airport.Name            52790 non-null  object \n",
      " 10  Injury.Severity         87889 non-null  object \n",
      " 11  Aircraft.damage         85695 non-null  object \n",
      " 12  Aircraft.Category       32287 non-null  object \n",
      " 13  Registration.Number     87572 non-null  object \n",
      " 14  Make                    88826 non-null  object \n",
      " 15  Model                   88797 non-null  object \n",
      " 16  Amateur.Built           88787 non-null  object \n",
      " 17  Number.of.Engines       82805 non-null  float64\n",
      " 18  Engine.Type             81812 non-null  object \n",
      " 19  FAR.Description         32023 non-null  object \n",
      " 20  Schedule                12582 non-null  object \n",
      " 21  Purpose.of.flight       82697 non-null  object \n",
      " 22  Air.carrier             16648 non-null  object \n",
      " 23  Total.Fatal.Injuries    77488 non-null  float64\n",
      " 24  Total.Serious.Injuries  76379 non-null  float64\n",
      " 25  Total.Minor.Injuries    76956 non-null  float64\n",
      " 26  Total.Uninjured         82977 non-null  float64\n",
      " 27  Weather.Condition       84397 non-null  object \n",
      " 28  Broad.phase.of.flight   61724 non-null  object \n",
      " 29  Report.Status           82508 non-null  object \n",
      " 30  Publication.Date        73659 non-null  object \n",
      "dtypes: float64(5), object(26)\n",
      "memory usage: 21.4+ MB\n"
     ]
    }
   ],
   "source": [
    "df.info()"
   ]
  },
  {
   "cell_type": "markdown",
   "metadata": {},
   "source": [
    "#Rows=90,348 & 31 Columns\n",
    "Columns monstly strings and float\n",
    "missing data = latitude, Aircraft.category & injury related fields.\n",
    "\n",
    "# Potential issues:\n",
    "'.' in column names\n",
    "Non standard datatypes\n",
    "Many nulls in some columns eg Schedule, FAR.Description"
   ]
  },
  {
   "cell_type": "code",
   "execution_count": 3,
   "metadata": {},
   "outputs": [
    {
     "data": {
      "text/plain": [
       "(90348, 31)"
      ]
     },
     "execution_count": 3,
     "metadata": {},
     "output_type": "execute_result"
    }
   ],
   "source": [
    "df.shape"
   ]
  },
  {
   "cell_type": "code",
   "execution_count": 4,
   "metadata": {},
   "outputs": [
    {
     "data": {
      "text/html": [
       "<div>\n",
       "<style scoped>\n",
       "    .dataframe tbody tr th:only-of-type {\n",
       "        vertical-align: middle;\n",
       "    }\n",
       "\n",
       "    .dataframe tbody tr th {\n",
       "        vertical-align: top;\n",
       "    }\n",
       "\n",
       "    .dataframe thead th {\n",
       "        text-align: right;\n",
       "    }\n",
       "</style>\n",
       "<table border=\"1\" class=\"dataframe\">\n",
       "  <thead>\n",
       "    <tr style=\"text-align: right;\">\n",
       "      <th></th>\n",
       "      <th>Event.Id</th>\n",
       "      <th>Investigation.Type</th>\n",
       "      <th>Accident.Number</th>\n",
       "      <th>Event.Date</th>\n",
       "      <th>Location</th>\n",
       "      <th>Country</th>\n",
       "      <th>Latitude</th>\n",
       "      <th>Longitude</th>\n",
       "      <th>Airport.Code</th>\n",
       "      <th>Airport.Name</th>\n",
       "      <th>...</th>\n",
       "      <th>Purpose.of.flight</th>\n",
       "      <th>Air.carrier</th>\n",
       "      <th>Total.Fatal.Injuries</th>\n",
       "      <th>Total.Serious.Injuries</th>\n",
       "      <th>Total.Minor.Injuries</th>\n",
       "      <th>Total.Uninjured</th>\n",
       "      <th>Weather.Condition</th>\n",
       "      <th>Broad.phase.of.flight</th>\n",
       "      <th>Report.Status</th>\n",
       "      <th>Publication.Date</th>\n",
       "    </tr>\n",
       "  </thead>\n",
       "  <tbody>\n",
       "    <tr>\n",
       "      <th>count</th>\n",
       "      <td>88889</td>\n",
       "      <td>90348</td>\n",
       "      <td>88889</td>\n",
       "      <td>88889</td>\n",
       "      <td>88837</td>\n",
       "      <td>88663</td>\n",
       "      <td>34382</td>\n",
       "      <td>34373</td>\n",
       "      <td>50249</td>\n",
       "      <td>52790</td>\n",
       "      <td>...</td>\n",
       "      <td>82697</td>\n",
       "      <td>16648</td>\n",
       "      <td>77488.000000</td>\n",
       "      <td>76379.000000</td>\n",
       "      <td>76956.000000</td>\n",
       "      <td>82977.000000</td>\n",
       "      <td>84397</td>\n",
       "      <td>61724</td>\n",
       "      <td>82508</td>\n",
       "      <td>73659</td>\n",
       "    </tr>\n",
       "    <tr>\n",
       "      <th>unique</th>\n",
       "      <td>87951</td>\n",
       "      <td>71</td>\n",
       "      <td>88863</td>\n",
       "      <td>14782</td>\n",
       "      <td>27758</td>\n",
       "      <td>219</td>\n",
       "      <td>25592</td>\n",
       "      <td>27156</td>\n",
       "      <td>10375</td>\n",
       "      <td>24871</td>\n",
       "      <td>...</td>\n",
       "      <td>26</td>\n",
       "      <td>13590</td>\n",
       "      <td>NaN</td>\n",
       "      <td>NaN</td>\n",
       "      <td>NaN</td>\n",
       "      <td>NaN</td>\n",
       "      <td>4</td>\n",
       "      <td>12</td>\n",
       "      <td>17007</td>\n",
       "      <td>2923</td>\n",
       "    </tr>\n",
       "    <tr>\n",
       "      <th>top</th>\n",
       "      <td>20001214X45071</td>\n",
       "      <td>Accident</td>\n",
       "      <td>DCA23WA071</td>\n",
       "      <td>2000-07-08</td>\n",
       "      <td>ANCHORAGE, AK</td>\n",
       "      <td>United States</td>\n",
       "      <td>332739N</td>\n",
       "      <td>0112457W</td>\n",
       "      <td>NONE</td>\n",
       "      <td>Private</td>\n",
       "      <td>...</td>\n",
       "      <td>Personal</td>\n",
       "      <td>Pilot</td>\n",
       "      <td>NaN</td>\n",
       "      <td>NaN</td>\n",
       "      <td>NaN</td>\n",
       "      <td>NaN</td>\n",
       "      <td>VMC</td>\n",
       "      <td>Landing</td>\n",
       "      <td>Probable Cause</td>\n",
       "      <td>25-09-2020</td>\n",
       "    </tr>\n",
       "    <tr>\n",
       "      <th>freq</th>\n",
       "      <td>3</td>\n",
       "      <td>85015</td>\n",
       "      <td>2</td>\n",
       "      <td>25</td>\n",
       "      <td>434</td>\n",
       "      <td>82248</td>\n",
       "      <td>19</td>\n",
       "      <td>24</td>\n",
       "      <td>1488</td>\n",
       "      <td>240</td>\n",
       "      <td>...</td>\n",
       "      <td>49448</td>\n",
       "      <td>258</td>\n",
       "      <td>NaN</td>\n",
       "      <td>NaN</td>\n",
       "      <td>NaN</td>\n",
       "      <td>NaN</td>\n",
       "      <td>77303</td>\n",
       "      <td>15428</td>\n",
       "      <td>61754</td>\n",
       "      <td>16317</td>\n",
       "    </tr>\n",
       "    <tr>\n",
       "      <th>mean</th>\n",
       "      <td>NaN</td>\n",
       "      <td>NaN</td>\n",
       "      <td>NaN</td>\n",
       "      <td>NaN</td>\n",
       "      <td>NaN</td>\n",
       "      <td>NaN</td>\n",
       "      <td>NaN</td>\n",
       "      <td>NaN</td>\n",
       "      <td>NaN</td>\n",
       "      <td>NaN</td>\n",
       "      <td>...</td>\n",
       "      <td>NaN</td>\n",
       "      <td>NaN</td>\n",
       "      <td>0.647855</td>\n",
       "      <td>0.279881</td>\n",
       "      <td>0.357061</td>\n",
       "      <td>5.325440</td>\n",
       "      <td>NaN</td>\n",
       "      <td>NaN</td>\n",
       "      <td>NaN</td>\n",
       "      <td>NaN</td>\n",
       "    </tr>\n",
       "    <tr>\n",
       "      <th>std</th>\n",
       "      <td>NaN</td>\n",
       "      <td>NaN</td>\n",
       "      <td>NaN</td>\n",
       "      <td>NaN</td>\n",
       "      <td>NaN</td>\n",
       "      <td>NaN</td>\n",
       "      <td>NaN</td>\n",
       "      <td>NaN</td>\n",
       "      <td>NaN</td>\n",
       "      <td>NaN</td>\n",
       "      <td>...</td>\n",
       "      <td>NaN</td>\n",
       "      <td>NaN</td>\n",
       "      <td>5.485960</td>\n",
       "      <td>1.544084</td>\n",
       "      <td>2.235625</td>\n",
       "      <td>27.913634</td>\n",
       "      <td>NaN</td>\n",
       "      <td>NaN</td>\n",
       "      <td>NaN</td>\n",
       "      <td>NaN</td>\n",
       "    </tr>\n",
       "    <tr>\n",
       "      <th>min</th>\n",
       "      <td>NaN</td>\n",
       "      <td>NaN</td>\n",
       "      <td>NaN</td>\n",
       "      <td>NaN</td>\n",
       "      <td>NaN</td>\n",
       "      <td>NaN</td>\n",
       "      <td>NaN</td>\n",
       "      <td>NaN</td>\n",
       "      <td>NaN</td>\n",
       "      <td>NaN</td>\n",
       "      <td>...</td>\n",
       "      <td>NaN</td>\n",
       "      <td>NaN</td>\n",
       "      <td>0.000000</td>\n",
       "      <td>0.000000</td>\n",
       "      <td>0.000000</td>\n",
       "      <td>0.000000</td>\n",
       "      <td>NaN</td>\n",
       "      <td>NaN</td>\n",
       "      <td>NaN</td>\n",
       "      <td>NaN</td>\n",
       "    </tr>\n",
       "    <tr>\n",
       "      <th>25%</th>\n",
       "      <td>NaN</td>\n",
       "      <td>NaN</td>\n",
       "      <td>NaN</td>\n",
       "      <td>NaN</td>\n",
       "      <td>NaN</td>\n",
       "      <td>NaN</td>\n",
       "      <td>NaN</td>\n",
       "      <td>NaN</td>\n",
       "      <td>NaN</td>\n",
       "      <td>NaN</td>\n",
       "      <td>...</td>\n",
       "      <td>NaN</td>\n",
       "      <td>NaN</td>\n",
       "      <td>0.000000</td>\n",
       "      <td>0.000000</td>\n",
       "      <td>0.000000</td>\n",
       "      <td>0.000000</td>\n",
       "      <td>NaN</td>\n",
       "      <td>NaN</td>\n",
       "      <td>NaN</td>\n",
       "      <td>NaN</td>\n",
       "    </tr>\n",
       "    <tr>\n",
       "      <th>50%</th>\n",
       "      <td>NaN</td>\n",
       "      <td>NaN</td>\n",
       "      <td>NaN</td>\n",
       "      <td>NaN</td>\n",
       "      <td>NaN</td>\n",
       "      <td>NaN</td>\n",
       "      <td>NaN</td>\n",
       "      <td>NaN</td>\n",
       "      <td>NaN</td>\n",
       "      <td>NaN</td>\n",
       "      <td>...</td>\n",
       "      <td>NaN</td>\n",
       "      <td>NaN</td>\n",
       "      <td>0.000000</td>\n",
       "      <td>0.000000</td>\n",
       "      <td>0.000000</td>\n",
       "      <td>1.000000</td>\n",
       "      <td>NaN</td>\n",
       "      <td>NaN</td>\n",
       "      <td>NaN</td>\n",
       "      <td>NaN</td>\n",
       "    </tr>\n",
       "    <tr>\n",
       "      <th>75%</th>\n",
       "      <td>NaN</td>\n",
       "      <td>NaN</td>\n",
       "      <td>NaN</td>\n",
       "      <td>NaN</td>\n",
       "      <td>NaN</td>\n",
       "      <td>NaN</td>\n",
       "      <td>NaN</td>\n",
       "      <td>NaN</td>\n",
       "      <td>NaN</td>\n",
       "      <td>NaN</td>\n",
       "      <td>...</td>\n",
       "      <td>NaN</td>\n",
       "      <td>NaN</td>\n",
       "      <td>0.000000</td>\n",
       "      <td>0.000000</td>\n",
       "      <td>0.000000</td>\n",
       "      <td>2.000000</td>\n",
       "      <td>NaN</td>\n",
       "      <td>NaN</td>\n",
       "      <td>NaN</td>\n",
       "      <td>NaN</td>\n",
       "    </tr>\n",
       "    <tr>\n",
       "      <th>max</th>\n",
       "      <td>NaN</td>\n",
       "      <td>NaN</td>\n",
       "      <td>NaN</td>\n",
       "      <td>NaN</td>\n",
       "      <td>NaN</td>\n",
       "      <td>NaN</td>\n",
       "      <td>NaN</td>\n",
       "      <td>NaN</td>\n",
       "      <td>NaN</td>\n",
       "      <td>NaN</td>\n",
       "      <td>...</td>\n",
       "      <td>NaN</td>\n",
       "      <td>NaN</td>\n",
       "      <td>349.000000</td>\n",
       "      <td>161.000000</td>\n",
       "      <td>380.000000</td>\n",
       "      <td>699.000000</td>\n",
       "      <td>NaN</td>\n",
       "      <td>NaN</td>\n",
       "      <td>NaN</td>\n",
       "      <td>NaN</td>\n",
       "    </tr>\n",
       "  </tbody>\n",
       "</table>\n",
       "<p>11 rows × 31 columns</p>\n",
       "</div>"
      ],
      "text/plain": [
       "              Event.Id Investigation.Type Accident.Number  Event.Date  \\\n",
       "count            88889              90348           88889       88889   \n",
       "unique           87951                 71           88863       14782   \n",
       "top     20001214X45071           Accident      DCA23WA071  2000-07-08   \n",
       "freq                 3              85015               2          25   \n",
       "mean               NaN                NaN             NaN         NaN   \n",
       "std                NaN                NaN             NaN         NaN   \n",
       "min                NaN                NaN             NaN         NaN   \n",
       "25%                NaN                NaN             NaN         NaN   \n",
       "50%                NaN                NaN             NaN         NaN   \n",
       "75%                NaN                NaN             NaN         NaN   \n",
       "max                NaN                NaN             NaN         NaN   \n",
       "\n",
       "             Location        Country Latitude Longitude Airport.Code  \\\n",
       "count           88837          88663    34382     34373        50249   \n",
       "unique          27758            219    25592     27156        10375   \n",
       "top     ANCHORAGE, AK  United States  332739N  0112457W         NONE   \n",
       "freq              434          82248       19        24         1488   \n",
       "mean              NaN            NaN      NaN       NaN          NaN   \n",
       "std               NaN            NaN      NaN       NaN          NaN   \n",
       "min               NaN            NaN      NaN       NaN          NaN   \n",
       "25%               NaN            NaN      NaN       NaN          NaN   \n",
       "50%               NaN            NaN      NaN       NaN          NaN   \n",
       "75%               NaN            NaN      NaN       NaN          NaN   \n",
       "max               NaN            NaN      NaN       NaN          NaN   \n",
       "\n",
       "       Airport.Name  ... Purpose.of.flight Air.carrier Total.Fatal.Injuries  \\\n",
       "count         52790  ...             82697       16648         77488.000000   \n",
       "unique        24871  ...                26       13590                  NaN   \n",
       "top         Private  ...          Personal       Pilot                  NaN   \n",
       "freq            240  ...             49448         258                  NaN   \n",
       "mean            NaN  ...               NaN         NaN             0.647855   \n",
       "std             NaN  ...               NaN         NaN             5.485960   \n",
       "min             NaN  ...               NaN         NaN             0.000000   \n",
       "25%             NaN  ...               NaN         NaN             0.000000   \n",
       "50%             NaN  ...               NaN         NaN             0.000000   \n",
       "75%             NaN  ...               NaN         NaN             0.000000   \n",
       "max             NaN  ...               NaN         NaN           349.000000   \n",
       "\n",
       "       Total.Serious.Injuries Total.Minor.Injuries Total.Uninjured  \\\n",
       "count            76379.000000         76956.000000    82977.000000   \n",
       "unique                    NaN                  NaN             NaN   \n",
       "top                       NaN                  NaN             NaN   \n",
       "freq                      NaN                  NaN             NaN   \n",
       "mean                 0.279881             0.357061        5.325440   \n",
       "std                  1.544084             2.235625       27.913634   \n",
       "min                  0.000000             0.000000        0.000000   \n",
       "25%                  0.000000             0.000000        0.000000   \n",
       "50%                  0.000000             0.000000        1.000000   \n",
       "75%                  0.000000             0.000000        2.000000   \n",
       "max                161.000000           380.000000      699.000000   \n",
       "\n",
       "       Weather.Condition  Broad.phase.of.flight   Report.Status  \\\n",
       "count              84397                  61724           82508   \n",
       "unique                 4                     12           17007   \n",
       "top                  VMC                Landing  Probable Cause   \n",
       "freq               77303                  15428           61754   \n",
       "mean                 NaN                    NaN             NaN   \n",
       "std                  NaN                    NaN             NaN   \n",
       "min                  NaN                    NaN             NaN   \n",
       "25%                  NaN                    NaN             NaN   \n",
       "50%                  NaN                    NaN             NaN   \n",
       "75%                  NaN                    NaN             NaN   \n",
       "max                  NaN                    NaN             NaN   \n",
       "\n",
       "       Publication.Date  \n",
       "count             73659  \n",
       "unique             2923  \n",
       "top          25-09-2020  \n",
       "freq              16317  \n",
       "mean                NaN  \n",
       "std                 NaN  \n",
       "min                 NaN  \n",
       "25%                 NaN  \n",
       "50%                 NaN  \n",
       "75%                 NaN  \n",
       "max                 NaN  \n",
       "\n",
       "[11 rows x 31 columns]"
      ]
     },
     "execution_count": 4,
     "metadata": {},
     "output_type": "execute_result"
    }
   ],
   "source": [
    "df.describe(include='all')"
   ]
  },
  {
   "cell_type": "markdown",
   "metadata": {},
   "source": [
    "### Step: Column Name Cleaning\n",
    "\n",
    "To improve usability, we replaced all periods `.` in column names with underscores `_` using:\n"
   ]
  },
  {
   "cell_type": "code",
   "execution_count": 5,
   "metadata": {},
   "outputs": [
    {
     "data": {
      "text/plain": [
       "Index(['Event_Id', 'Investigation_Type', 'Accident_Number', 'Event_Date',\n",
       "       'Location', 'Country', 'Latitude', 'Longitude', 'Airport_Code',\n",
       "       'Airport_Name'],\n",
       "      dtype='object')"
      ]
     },
     "execution_count": 5,
     "metadata": {},
     "output_type": "execute_result"
    }
   ],
   "source": [
    "df.columns = df.columns.str.replace('.', '_', regex=False)\n",
    "df.columns[:10]\n"
   ]
  },
  {
   "cell_type": "markdown",
   "metadata": {},
   "source": [
    "# Columns with missing values"
   ]
  },
  {
   "cell_type": "code",
   "execution_count": 6,
   "metadata": {},
   "outputs": [
    {
     "data": {
      "text/plain": [
       "Schedule                 77766\n",
       "Air_carrier              73700\n",
       "FAR_Description          58325\n",
       "Aircraft_Category        58061\n",
       "Longitude                55975\n",
       "Latitude                 55966\n",
       "Airport_Code             40099\n",
       "Airport_Name             37558\n",
       "Broad_phase_of_flight    28624\n",
       "Publication_Date         16689\n",
       "dtype: int64"
      ]
     },
     "execution_count": 6,
     "metadata": {},
     "output_type": "execute_result"
    }
   ],
   "source": [
    "df.isnull().sum().sort_values(ascending=False).head(10)\n"
   ]
  },
  {
   "cell_type": "markdown",
   "metadata": {},
   "source": [
    "### drop schedule Column"
   ]
  },
  {
   "cell_type": "code",
   "execution_count": 7,
   "metadata": {},
   "outputs": [],
   "source": [
    "df.drop(columns='Schedule', inplace=True)\n"
   ]
  },
  {
   "cell_type": "code",
   "execution_count": 8,
   "metadata": {
    "scrolled": true
   },
   "outputs": [
    {
     "data": {
      "text/plain": [
       "Air_carrier               73700\n",
       "FAR_Description           58325\n",
       "Aircraft_Category         58061\n",
       "Longitude                 55975\n",
       "Latitude                  55966\n",
       "Airport_Code              40099\n",
       "Airport_Name              37558\n",
       "Broad_phase_of_flight     28624\n",
       "Publication_Date          16689\n",
       "Total_Serious_Injuries    13969\n",
       "dtype: int64"
      ]
     },
     "execution_count": 8,
     "metadata": {},
     "output_type": "execute_result"
    }
   ],
   "source": [
    "df.isnull().sum().sort_values(ascending=False).head(10)\n"
   ]
  },
  {
   "cell_type": "markdown",
   "metadata": {},
   "source": [
    "### Explore Columns:\n",
    "- Air_carrier\n",
    "- FAR_Description\n",
    "- Aircraft_Category"
   ]
  },
  {
   "cell_type": "markdown",
   "metadata": {},
   "source": [
    "    ### Aircraft_Category"
   ]
  },
  {
   "cell_type": "code",
   "execution_count": 9,
   "metadata": {},
   "outputs": [
    {
     "data": {
      "text/plain": [
       "NaN                  58061\n",
       "Airplane             27617\n",
       "Helicopter            3440\n",
       "Glider                 508\n",
       "Balloon                231\n",
       "Gyrocraft              173\n",
       "Weight-Shift           161\n",
       "Powered Parachute       91\n",
       "Ultralight              30\n",
       "Unknown                 14\n",
       "WSFT                     9\n",
       "Powered-Lift             5\n",
       "Blimp                    4\n",
       "UNK                      2\n",
       "ULTR                     1\n",
       "Rocket                   1\n",
       "Name: Aircraft_Category, dtype: int64"
      ]
     },
     "execution_count": 9,
     "metadata": {},
     "output_type": "execute_result"
    }
   ],
   "source": [
    "df['Aircraft_Category'].value_counts(dropna=False)\n"
   ]
  },
  {
   "cell_type": "markdown",
   "metadata": {},
   "source": [
    "    ###Air_carrier"
   ]
  },
  {
   "cell_type": "code",
   "execution_count": 10,
   "metadata": {},
   "outputs": [
    {
     "data": {
      "text/plain": [
       "NaN                      73700\n",
       "Pilot                      258\n",
       "American Airlines           90\n",
       "United Airlines             89\n",
       "Delta Air Lines             53\n",
       "SOUTHWEST AIRLINES CO       42\n",
       "DELTA AIR LINES INC         37\n",
       "AMERICAN AIRLINES INC       29\n",
       "ON FILE                     27\n",
       "Continental Airlines        27\n",
       "Name: Air_carrier, dtype: int64"
      ]
     },
     "execution_count": 10,
     "metadata": {},
     "output_type": "execute_result"
    }
   ],
   "source": [
    "df['Air_carrier'].value_counts(dropna=False).head(10) \n"
   ]
  },
  {
   "cell_type": "markdown",
   "metadata": {},
   "source": [
    "    ###FAR_Description -common type of regulations under whhich the aircraft was opersting."
   ]
  },
  {
   "cell_type": "code",
   "execution_count": 11,
   "metadata": {},
   "outputs": [
    {
     "data": {
      "text/plain": [
       "NaN                               58325\n",
       "091                               18221\n",
       "Part 91: General Aviation          6486\n",
       "NUSN                               1584\n",
       "NUSC                               1013\n",
       "137                                1010\n",
       "135                                 746\n",
       "121                                 679\n",
       "Part 137: Agricultural              437\n",
       "UNK                                 371\n",
       "Part 135: Air Taxi & Commuter       298\n",
       "PUBU                                253\n",
       "129                                 246\n",
       "Part 121: Air Carrier               165\n",
       "133                                 107\n",
       "Part 129: Foreign                   100\n",
       "Non-U.S., Non-Commercial             97\n",
       "Non-U.S., Commercial                 93\n",
       "Part 133: Rotorcraft Ext. Load       32\n",
       "Unknown                              22\n",
       "Public Use                           19\n",
       "091K                                 14\n",
       "ARMF                                  8\n",
       "125                                   5\n",
       "Part 125: 20+ Pax,6000+ lbs           5\n",
       "107                                   4\n",
       "Public Aircraft                       2\n",
       "103                                   2\n",
       "Part 91F: Special Flt Ops.            1\n",
       "Part 91 Subpart K: Fractional         1\n",
       "Armed Forces                          1\n",
       "437                                   1\n",
       "Name: FAR_Description, dtype: int64"
      ]
     },
     "execution_count": 11,
     "metadata": {},
     "output_type": "execute_result"
    }
   ],
   "source": [
    "df['FAR_Description'].value_counts(dropna=False)\n"
   ]
  },
  {
   "cell_type": "markdown",
   "metadata": {},
   "source": [
    "    ###Aircraft_Category\n",
    "    -Most common: Airplane, then Helicopter\n",
    "    -Rare types: Glider, Blimp, Rocket, etc.\n",
    "    -Over 58k missing values (NaN)\n",
    "    \n",
    "    Air_carrier\n",
    "    -Most entries are \"Pilot\" (likely personal or small charter aircraft)\n",
    "    -Second by commercial carriers like American Airlines, United, Delta\n",
    "    -Some duplicate entries: \"DELTA AIR LINES INC\" vs \"Delta Air Lines\" (need to clean) \n",
    "    \n",
    "    FAR_Description\n",
    "    -Part 91: General Aviation — dominates\n",
    "    -Over 58,000 missing values — we’ll either drop them or impute based on known patterns\n",
    "    "
   ]
  },
  {
   "cell_type": "markdown",
   "metadata": {},
   "source": [
    "#  Filtering"
   ]
  },
  {
   "cell_type": "code",
   "execution_count": 12,
   "metadata": {},
   "outputs": [
    {
     "data": {
      "text/plain": [
       "(40491, 30)"
      ]
     },
     "execution_count": 12,
     "metadata": {},
     "output_type": "execute_result"
    }
   ],
   "source": [
    "# Maintain rows with at least one type of injury recorded\n",
    "df_injured = df[\n",
    "    (df['Total_Fatal_Injuries'].fillna(0) > 0) |\n",
    "    (df['Total_Serious_Injuries'].fillna(0) > 0) |\n",
    "    (df['Total_Minor_Injuries'].fillna(0) > 0)\n",
    "]\n",
    "df_injured.shape\n"
   ]
  },
  {
   "cell_type": "markdown",
   "metadata": {},
   "source": [
    "# Grouping Aircraft category and  total fatalities   incurred."
   ]
  },
  {
   "cell_type": "code",
   "execution_count": 13,
   "metadata": {
    "scrolled": true
   },
   "outputs": [
    {
     "data": {
      "text/plain": [
       "Aircraft_Category\n",
       "Airplane             16029.0\n",
       "Helicopter            1778.0\n",
       "Glider                  99.0\n",
       "Weight-Shift            67.0\n",
       "Gyrocraft               44.0\n",
       "Balloon                 43.0\n",
       "Unknown                 16.0\n",
       "Powered Parachute       15.0\n",
       "WSFT                    10.0\n",
       "Ultralight              10.0\n",
       "Rocket                   1.0\n",
       "ULTR                     0.0\n",
       "Powered-Lift             0.0\n",
       "Blimp                    0.0\n",
       "Name: Total_Fatal_Injuries, dtype: float64"
      ]
     },
     "execution_count": 13,
     "metadata": {},
     "output_type": "execute_result"
    }
   ],
   "source": [
    "# Group by\n",
    "fatal_by_aircraft = df_injured.groupby('Aircraft_Category')['Total_Fatal_Injuries'].sum().sort_values(ascending=False)\n",
    "fatal_by_aircraft\n"
   ]
  },
  {
   "cell_type": "markdown",
   "metadata": {},
   "source": [
    "  # BUSINESS INTERPRETATION. \n",
    "  \n",
    "Airplanes account for the highest number of fatalities, but also represent the largest proportion of aircraft in operation. Helicopters are second in both frequency and fatality count. Small categories like Gliders, Balloons, and Powered Parachutes show lower fatalities, but may be less scalable for commercial use."
   ]
  },
  {
   "cell_type": "markdown",
   "metadata": {},
   "source": [
    "    ###Frequency calculation."
   ]
  },
  {
   "cell_type": "code",
   "execution_count": 14,
   "metadata": {},
   "outputs": [
    {
     "data": {
      "text/plain": [
       "Airplane             27617\n",
       "Helicopter            3440\n",
       "Glider                 508\n",
       "Balloon                231\n",
       "Gyrocraft              173\n",
       "Weight-Shift           161\n",
       "Powered Parachute       91\n",
       "Ultralight              30\n",
       "Unknown                 14\n",
       "WSFT                     9\n",
       "Powered-Lift             5\n",
       "Blimp                    4\n",
       "UNK                      2\n",
       "ULTR                     1\n",
       "Rocket                   1\n",
       "Name: Aircraft_Category, dtype: int64"
      ]
     },
     "execution_count": 14,
     "metadata": {},
     "output_type": "execute_result"
    }
   ],
   "source": [
    "# Count frquency of aircraft type\n",
    "aircraft_counts = df['Aircraft_Category'].value_counts()\n",
    "aircraft_counts"
   ]
  },
  {
   "cell_type": "code",
   "execution_count": 15,
   "metadata": {},
   "outputs": [
    {
     "data": {
      "text/plain": [
       "Aircraft_Category\n",
       "Airplane             16029.0\n",
       "Balloon                 43.0\n",
       "Blimp                    0.0\n",
       "Glider                  99.0\n",
       "Gyrocraft               44.0\n",
       "Helicopter            1778.0\n",
       "Powered Parachute       15.0\n",
       "Powered-Lift             0.0\n",
       "Rocket                   1.0\n",
       "ULTR                     0.0\n",
       "Ultralight              10.0\n",
       "Unknown                 16.0\n",
       "WSFT                    10.0\n",
       "Weight-Shift            67.0\n",
       "Name: Total_Fatal_Injuries, dtype: float64"
      ]
     },
     "execution_count": 15,
     "metadata": {},
     "output_type": "execute_result"
    }
   ],
   "source": [
    "# Fatalities per aircraft type\n",
    "fatal_by_aircraft = df_injured.groupby('Aircraft_Category')['Total_Fatal_Injuries'].sum()\n",
    "fatal_by_aircraft"
   ]
  },
  {
   "cell_type": "code",
   "execution_count": 16,
   "metadata": {},
   "outputs": [
    {
     "data": {
      "text/html": [
       "<div>\n",
       "<style scoped>\n",
       "    .dataframe tbody tr th:only-of-type {\n",
       "        vertical-align: middle;\n",
       "    }\n",
       "\n",
       "    .dataframe tbody tr th {\n",
       "        vertical-align: top;\n",
       "    }\n",
       "\n",
       "    .dataframe thead th {\n",
       "        text-align: right;\n",
       "    }\n",
       "</style>\n",
       "<table border=\"1\" class=\"dataframe\">\n",
       "  <thead>\n",
       "    <tr style=\"text-align: right;\">\n",
       "      <th></th>\n",
       "      <th>Count</th>\n",
       "      <th>Fatalities</th>\n",
       "    </tr>\n",
       "  </thead>\n",
       "  <tbody>\n",
       "    <tr>\n",
       "      <th>Airplane</th>\n",
       "      <td>27617</td>\n",
       "      <td>16029.0</td>\n",
       "    </tr>\n",
       "    <tr>\n",
       "      <th>Balloon</th>\n",
       "      <td>231</td>\n",
       "      <td>43.0</td>\n",
       "    </tr>\n",
       "    <tr>\n",
       "      <th>Blimp</th>\n",
       "      <td>4</td>\n",
       "      <td>0.0</td>\n",
       "    </tr>\n",
       "    <tr>\n",
       "      <th>Glider</th>\n",
       "      <td>508</td>\n",
       "      <td>99.0</td>\n",
       "    </tr>\n",
       "    <tr>\n",
       "      <th>Gyrocraft</th>\n",
       "      <td>173</td>\n",
       "      <td>44.0</td>\n",
       "    </tr>\n",
       "    <tr>\n",
       "      <th>Helicopter</th>\n",
       "      <td>3440</td>\n",
       "      <td>1778.0</td>\n",
       "    </tr>\n",
       "    <tr>\n",
       "      <th>Powered Parachute</th>\n",
       "      <td>91</td>\n",
       "      <td>15.0</td>\n",
       "    </tr>\n",
       "    <tr>\n",
       "      <th>Powered-Lift</th>\n",
       "      <td>5</td>\n",
       "      <td>0.0</td>\n",
       "    </tr>\n",
       "    <tr>\n",
       "      <th>Rocket</th>\n",
       "      <td>1</td>\n",
       "      <td>1.0</td>\n",
       "    </tr>\n",
       "    <tr>\n",
       "      <th>ULTR</th>\n",
       "      <td>1</td>\n",
       "      <td>0.0</td>\n",
       "    </tr>\n",
       "    <tr>\n",
       "      <th>UNK</th>\n",
       "      <td>2</td>\n",
       "      <td>NaN</td>\n",
       "    </tr>\n",
       "    <tr>\n",
       "      <th>Ultralight</th>\n",
       "      <td>30</td>\n",
       "      <td>10.0</td>\n",
       "    </tr>\n",
       "    <tr>\n",
       "      <th>Unknown</th>\n",
       "      <td>14</td>\n",
       "      <td>16.0</td>\n",
       "    </tr>\n",
       "    <tr>\n",
       "      <th>WSFT</th>\n",
       "      <td>9</td>\n",
       "      <td>10.0</td>\n",
       "    </tr>\n",
       "    <tr>\n",
       "      <th>Weight-Shift</th>\n",
       "      <td>161</td>\n",
       "      <td>67.0</td>\n",
       "    </tr>\n",
       "  </tbody>\n",
       "</table>\n",
       "</div>"
      ],
      "text/plain": [
       "                   Count  Fatalities\n",
       "Airplane           27617     16029.0\n",
       "Balloon              231        43.0\n",
       "Blimp                  4         0.0\n",
       "Glider               508        99.0\n",
       "Gyrocraft            173        44.0\n",
       "Helicopter          3440      1778.0\n",
       "Powered Parachute     91        15.0\n",
       "Powered-Lift           5         0.0\n",
       "Rocket                 1         1.0\n",
       "ULTR                   1         0.0\n",
       "UNK                    2         NaN\n",
       "Ultralight            30        10.0\n",
       "Unknown               14        16.0\n",
       "WSFT                   9        10.0\n",
       "Weight-Shift         161        67.0"
      ]
     },
     "execution_count": 16,
     "metadata": {},
     "output_type": "execute_result"
    }
   ],
   "source": [
    "# Combine into one DataFrame\n",
    "risk_df = pd.DataFrame({\n",
    "    'Count': aircraft_counts,\n",
    "    'Fatalities': fatal_by_aircraft\n",
    "})\n",
    "risk_df"
   ]
  },
  {
   "cell_type": "code",
   "execution_count": 17,
   "metadata": {},
   "outputs": [
    {
     "data": {
      "text/html": [
       "<div>\n",
       "<style scoped>\n",
       "    .dataframe tbody tr th:only-of-type {\n",
       "        vertical-align: middle;\n",
       "    }\n",
       "\n",
       "    .dataframe tbody tr th {\n",
       "        vertical-align: top;\n",
       "    }\n",
       "\n",
       "    .dataframe thead th {\n",
       "        text-align: right;\n",
       "    }\n",
       "</style>\n",
       "<table border=\"1\" class=\"dataframe\">\n",
       "  <thead>\n",
       "    <tr style=\"text-align: right;\">\n",
       "      <th></th>\n",
       "      <th>Count</th>\n",
       "      <th>Fatalities</th>\n",
       "    </tr>\n",
       "  </thead>\n",
       "  <tbody>\n",
       "    <tr>\n",
       "      <th>Airplane</th>\n",
       "      <td>27617</td>\n",
       "      <td>16029.0</td>\n",
       "    </tr>\n",
       "    <tr>\n",
       "      <th>Balloon</th>\n",
       "      <td>231</td>\n",
       "      <td>43.0</td>\n",
       "    </tr>\n",
       "    <tr>\n",
       "      <th>Blimp</th>\n",
       "      <td>4</td>\n",
       "      <td>0.0</td>\n",
       "    </tr>\n",
       "    <tr>\n",
       "      <th>Glider</th>\n",
       "      <td>508</td>\n",
       "      <td>99.0</td>\n",
       "    </tr>\n",
       "    <tr>\n",
       "      <th>Gyrocraft</th>\n",
       "      <td>173</td>\n",
       "      <td>44.0</td>\n",
       "    </tr>\n",
       "    <tr>\n",
       "      <th>Helicopter</th>\n",
       "      <td>3440</td>\n",
       "      <td>1778.0</td>\n",
       "    </tr>\n",
       "    <tr>\n",
       "      <th>Powered Parachute</th>\n",
       "      <td>91</td>\n",
       "      <td>15.0</td>\n",
       "    </tr>\n",
       "    <tr>\n",
       "      <th>Powered-Lift</th>\n",
       "      <td>5</td>\n",
       "      <td>0.0</td>\n",
       "    </tr>\n",
       "    <tr>\n",
       "      <th>Rocket</th>\n",
       "      <td>1</td>\n",
       "      <td>1.0</td>\n",
       "    </tr>\n",
       "    <tr>\n",
       "      <th>ULTR</th>\n",
       "      <td>1</td>\n",
       "      <td>0.0</td>\n",
       "    </tr>\n",
       "    <tr>\n",
       "      <th>UNK</th>\n",
       "      <td>2</td>\n",
       "      <td>0.0</td>\n",
       "    </tr>\n",
       "    <tr>\n",
       "      <th>Ultralight</th>\n",
       "      <td>30</td>\n",
       "      <td>10.0</td>\n",
       "    </tr>\n",
       "    <tr>\n",
       "      <th>Unknown</th>\n",
       "      <td>14</td>\n",
       "      <td>16.0</td>\n",
       "    </tr>\n",
       "    <tr>\n",
       "      <th>WSFT</th>\n",
       "      <td>9</td>\n",
       "      <td>10.0</td>\n",
       "    </tr>\n",
       "    <tr>\n",
       "      <th>Weight-Shift</th>\n",
       "      <td>161</td>\n",
       "      <td>67.0</td>\n",
       "    </tr>\n",
       "  </tbody>\n",
       "</table>\n",
       "</div>"
      ],
      "text/plain": [
       "                   Count  Fatalities\n",
       "Airplane           27617     16029.0\n",
       "Balloon              231        43.0\n",
       "Blimp                  4         0.0\n",
       "Glider               508        99.0\n",
       "Gyrocraft            173        44.0\n",
       "Helicopter          3440      1778.0\n",
       "Powered Parachute     91        15.0\n",
       "Powered-Lift           5         0.0\n",
       "Rocket                 1         1.0\n",
       "ULTR                   1         0.0\n",
       "UNK                    2         0.0\n",
       "Ultralight            30        10.0\n",
       "Unknown               14        16.0\n",
       "WSFT                   9        10.0\n",
       "Weight-Shift         161        67.0"
      ]
     },
     "execution_count": 17,
     "metadata": {},
     "output_type": "execute_result"
    }
   ],
   "source": [
    "# Fill NaN fatalities with 0\n",
    "risk_df['Fatalities'] = risk_df['Fatalities'].fillna(0)\n",
    "risk_df"
   ]
  },
  {
   "cell_type": "code",
   "execution_count": 18,
   "metadata": {},
   "outputs": [
    {
     "data": {
      "text/plain": [
       "Airplane              580.403375\n",
       "Balloon               186.147186\n",
       "Blimp                   0.000000\n",
       "Glider                194.881890\n",
       "Gyrocraft             254.335260\n",
       "Helicopter            516.860465\n",
       "Powered Parachute     164.835165\n",
       "Powered-Lift            0.000000\n",
       "Rocket               1000.000000\n",
       "ULTR                    0.000000\n",
       "UNK                     0.000000\n",
       "Ultralight            333.333333\n",
       "Unknown              1142.857143\n",
       "WSFT                 1111.111111\n",
       "Weight-Shift          416.149068\n",
       "Name: Fatality_Rate, dtype: float64"
      ]
     },
     "execution_count": 18,
     "metadata": {},
     "output_type": "execute_result"
    }
   ],
   "source": [
    "#  fatality rate per 1000 flights\n",
    "risk_df['Fatality_Rate'] = (risk_df['Fatalities'] / risk_df['Count']) * 1000\n",
    "risk_df['Fatality_Rate']"
   ]
  },
  {
   "cell_type": "code",
   "execution_count": 19,
   "metadata": {},
   "outputs": [
    {
     "data": {
      "text/html": [
       "<div>\n",
       "<style scoped>\n",
       "    .dataframe tbody tr th:only-of-type {\n",
       "        vertical-align: middle;\n",
       "    }\n",
       "\n",
       "    .dataframe tbody tr th {\n",
       "        vertical-align: top;\n",
       "    }\n",
       "\n",
       "    .dataframe thead th {\n",
       "        text-align: right;\n",
       "    }\n",
       "</style>\n",
       "<table border=\"1\" class=\"dataframe\">\n",
       "  <thead>\n",
       "    <tr style=\"text-align: right;\">\n",
       "      <th></th>\n",
       "      <th>Count</th>\n",
       "      <th>Fatalities</th>\n",
       "      <th>Fatality_Rate</th>\n",
       "    </tr>\n",
       "  </thead>\n",
       "  <tbody>\n",
       "    <tr>\n",
       "      <th>Unknown</th>\n",
       "      <td>14</td>\n",
       "      <td>16.0</td>\n",
       "      <td>1142.857143</td>\n",
       "    </tr>\n",
       "    <tr>\n",
       "      <th>WSFT</th>\n",
       "      <td>9</td>\n",
       "      <td>10.0</td>\n",
       "      <td>1111.111111</td>\n",
       "    </tr>\n",
       "    <tr>\n",
       "      <th>Rocket</th>\n",
       "      <td>1</td>\n",
       "      <td>1.0</td>\n",
       "      <td>1000.000000</td>\n",
       "    </tr>\n",
       "    <tr>\n",
       "      <th>Airplane</th>\n",
       "      <td>27617</td>\n",
       "      <td>16029.0</td>\n",
       "      <td>580.403375</td>\n",
       "    </tr>\n",
       "    <tr>\n",
       "      <th>Helicopter</th>\n",
       "      <td>3440</td>\n",
       "      <td>1778.0</td>\n",
       "      <td>516.860465</td>\n",
       "    </tr>\n",
       "    <tr>\n",
       "      <th>Weight-Shift</th>\n",
       "      <td>161</td>\n",
       "      <td>67.0</td>\n",
       "      <td>416.149068</td>\n",
       "    </tr>\n",
       "    <tr>\n",
       "      <th>Ultralight</th>\n",
       "      <td>30</td>\n",
       "      <td>10.0</td>\n",
       "      <td>333.333333</td>\n",
       "    </tr>\n",
       "    <tr>\n",
       "      <th>Gyrocraft</th>\n",
       "      <td>173</td>\n",
       "      <td>44.0</td>\n",
       "      <td>254.335260</td>\n",
       "    </tr>\n",
       "    <tr>\n",
       "      <th>Glider</th>\n",
       "      <td>508</td>\n",
       "      <td>99.0</td>\n",
       "      <td>194.881890</td>\n",
       "    </tr>\n",
       "    <tr>\n",
       "      <th>Balloon</th>\n",
       "      <td>231</td>\n",
       "      <td>43.0</td>\n",
       "      <td>186.147186</td>\n",
       "    </tr>\n",
       "    <tr>\n",
       "      <th>Powered Parachute</th>\n",
       "      <td>91</td>\n",
       "      <td>15.0</td>\n",
       "      <td>164.835165</td>\n",
       "    </tr>\n",
       "    <tr>\n",
       "      <th>Blimp</th>\n",
       "      <td>4</td>\n",
       "      <td>0.0</td>\n",
       "      <td>0.000000</td>\n",
       "    </tr>\n",
       "    <tr>\n",
       "      <th>Powered-Lift</th>\n",
       "      <td>5</td>\n",
       "      <td>0.0</td>\n",
       "      <td>0.000000</td>\n",
       "    </tr>\n",
       "    <tr>\n",
       "      <th>ULTR</th>\n",
       "      <td>1</td>\n",
       "      <td>0.0</td>\n",
       "      <td>0.000000</td>\n",
       "    </tr>\n",
       "    <tr>\n",
       "      <th>UNK</th>\n",
       "      <td>2</td>\n",
       "      <td>0.0</td>\n",
       "      <td>0.000000</td>\n",
       "    </tr>\n",
       "  </tbody>\n",
       "</table>\n",
       "</div>"
      ],
      "text/plain": [
       "                   Count  Fatalities  Fatality_Rate\n",
       "Unknown               14        16.0    1142.857143\n",
       "WSFT                   9        10.0    1111.111111\n",
       "Rocket                 1         1.0    1000.000000\n",
       "Airplane           27617     16029.0     580.403375\n",
       "Helicopter          3440      1778.0     516.860465\n",
       "Weight-Shift         161        67.0     416.149068\n",
       "Ultralight            30        10.0     333.333333\n",
       "Gyrocraft            173        44.0     254.335260\n",
       "Glider               508        99.0     194.881890\n",
       "Balloon              231        43.0     186.147186\n",
       "Powered Parachute     91        15.0     164.835165\n",
       "Blimp                  4         0.0       0.000000\n",
       "Powered-Lift           5         0.0       0.000000\n",
       "ULTR                   1         0.0       0.000000\n",
       "UNK                    2         0.0       0.000000"
      ]
     },
     "execution_count": 19,
     "metadata": {},
     "output_type": "execute_result"
    }
   ],
   "source": [
    "# Sort by fatality rate\n",
    "risk_df.sort_values('Fatality_Rate', ascending=False)"
   ]
  },
  {
   "cell_type": "code",
   "execution_count": 20,
   "metadata": {},
   "outputs": [
    {
     "data": {
      "image/png": "[encoded data removed]",
      "text/plain": [
       "<Figure size 864x432 with 1 Axes>"
      ]
     },
     "metadata": {
      "needs_background": "light"
     },
     "output_type": "display_data"
    }
   ],
   "source": [
    "import matplotlib.pyplot as plt\n",
    "risk_df_sorted = risk_df.sort_values('Fatality_Rate', ascending=False)\n",
    "plt.figure(figsize=(12, 6))\n",
    "plt.bar(risk_df_sorted.index, risk_df_sorted['Fatality_Rate'], color='salmon')\n",
    "plt.xticks(rotation=45, ha='right')\n",
    "plt.ylabel('Fatalities per 1000 Incidents')\n",
    "plt.title('Fatality Risk by Aircraft Type')\n",
    "plt.tight_layout()\n",
    "plt.show()\n"
   ]
  },
  {
   "cell_type": "code",
   "execution_count": 21,
   "metadata": {},
   "outputs": [
    {
     "data": {
      "text/plain": [
       "['Event_Id',\n",
       " 'Investigation_Type',\n",
       " 'Accident_Number',\n",
       " 'Event_Date',\n",
       " 'Location',\n",
       " 'Country',\n",
       " 'Latitude',\n",
       " 'Longitude',\n",
       " 'Airport_Code',\n",
       " 'Airport_Name',\n",
       " 'Injury_Severity',\n",
       " 'Aircraft_damage',\n",
       " 'Aircraft_Category',\n",
       " 'Registration_Number',\n",
       " 'Make',\n",
       " 'Model',\n",
       " 'Amateur_Built',\n",
       " 'Number_of_Engines',\n",
       " 'Engine_Type',\n",
       " 'FAR_Description',\n",
       " 'Purpose_of_flight',\n",
       " 'Air_carrier',\n",
       " 'Total_Fatal_Injuries',\n",
       " 'Total_Serious_Injuries',\n",
       " 'Total_Minor_Injuries',\n",
       " 'Total_Uninjured',\n",
       " 'Weather_Condition',\n",
       " 'Broad_phase_of_flight',\n",
       " 'Report_Status',\n",
       " 'Publication_Date']"
      ]
     },
     "execution_count": 21,
     "metadata": {},
     "output_type": "execute_result"
    }
   ],
   "source": [
    "df.columns.tolist()\n"
   ]
  },
  {
   "cell_type": "code",
   "execution_count": 22,
   "metadata": {},
   "outputs": [],
   "source": [
    "columns_to_drop = ['Air_carrier', 'FAR_Description', 'Airport_Name']  # 'Schedule' removed\n",
    "df_cleaned = df.drop(columns=columns_to_drop)\n"
   ]
  },
  {
   "cell_type": "code",
   "execution_count": 23,
   "metadata": {},
   "outputs": [
    {
     "data": {
      "text/plain": [
       "['Event_Id',\n",
       " 'Investigation_Type',\n",
       " 'Accident_Number',\n",
       " 'Event_Date',\n",
       " 'Location',\n",
       " 'Country',\n",
       " 'Latitude',\n",
       " 'Longitude',\n",
       " 'Airport_Code',\n",
       " 'Injury_Severity',\n",
       " 'Aircraft_damage',\n",
       " 'Aircraft_Category',\n",
       " 'Registration_Number',\n",
       " 'Make',\n",
       " 'Model',\n",
       " 'Amateur_Built',\n",
       " 'Number_of_Engines',\n",
       " 'Engine_Type',\n",
       " 'Purpose_of_flight',\n",
       " 'Total_Fatal_Injuries',\n",
       " 'Total_Serious_Injuries',\n",
       " 'Total_Minor_Injuries',\n",
       " 'Total_Uninjured',\n",
       " 'Weather_Condition',\n",
       " 'Broad_phase_of_flight',\n",
       " 'Report_Status',\n",
       " 'Publication_Date']"
      ]
     },
     "execution_count": 23,
     "metadata": {},
     "output_type": "execute_result"
    }
   ],
   "source": [
    "df_cleaned.shape\n",
    "df_cleaned.columns.tolist()\n"
   ]
  },
  {
   "cell_type": "code",
   "execution_count": 24,
   "metadata": {
    "scrolled": true
   },
   "outputs": [
    {
     "data": {
      "image/png": "[encoded data removed]",
      "text/plain": [
       "<Figure size 720x432 with 1 Axes>"
      ]
     },
     "metadata": {
      "needs_background": "light"
     },
     "output_type": "display_data"
    }
   ],
   "source": [
    "import matplotlib.pyplot as plt\n",
    "import seaborn as sns\n",
    "\n",
    "# Group and sort\n",
    "fatal_by_category = df_cleaned.groupby('Aircraft_Category')['Total_Fatal_Injuries'].sum().sort_values(ascending=False)\n",
    "\n",
    "# Plot\n",
    "plt.figure(figsize=(10,6))\n",
    "sns.barplot(x=fatal_by_category.index, y=fatal_by_category.values, palette='Reds_r')\n",
    "plt.xticks(rotation=45)\n",
    "plt.title('Total Fatal Injuries by Aircraft Category')\n",
    "plt.ylabel('Total Fatal Injuries')\n",
    "plt.xlabel('Aircraft Category')\n",
    "plt.tight_layout()\n",
    "plt.show()\n"
   ]
  },
  {
   "cell_type": "markdown",
   "metadata": {},
   "source": [
    "# EDA\n",
    "- some aircraft categories like \"Powered-Lift\", \"Blimp\", or \"Rocket\" don’t even have injury data because:\n",
    "    -They're rarely used, especially in commercial settings.\n",
    "    -Accidents involving them are extremely uncommon or       underreported.\n",
    "    -Some might be military-only or experimental, hence not logged in public dataset"
   ]
  },
  {
   "cell_type": "code",
   "execution_count": 25,
   "metadata": {},
   "outputs": [
    {
     "data": {
      "image/png": "[encoded data removed]",
      "text/plain": [
       "<Figure size 720x432 with 1 Axes>"
      ]
     },
     "metadata": {
      "needs_background": "light"
     },
     "output_type": "display_data"
    }
   ],
   "source": [
    "# Calculate total injuries\n",
    "df_cleaned['Total_Injuries'] = df_cleaned[['Total_Fatal_Injuries', 'Total_Serious_Injuries', 'Total_Minor_Injuries']].sum(axis=1)\n",
    "injuries_by_make = df_cleaned.groupby('Make')['Total_Injuries'].sum().sort_values(ascending=False).head(10)\n",
    "\n",
    "plt.figure(figsize=(10,6))\n",
    "sns.barplot(x=injuries_by_make.index, y=injuries_by_make.values, palette='coolwarm')\n",
    "plt.xticks(rotation=45)\n",
    "plt.title('Top 10 Aircraft Makes with Most Total Injuries')\n",
    "plt.ylabel('Total Injuries')\n",
    "plt.xlabel('Aircraft Make')\n",
    "plt.tight_layout()\n",
    "plt.show()\n"
   ]
  },
  {
   "cell_type": "code",
   "execution_count": 26,
   "metadata": {},
   "outputs": [
    {
     "data": {
      "image/png": "[encoded data removed]",
      "text/plain": [
       "<Figure size 720x432 with 1 Axes>"
      ]
     },
     "metadata": {
      "needs_background": "light"
     },
     "output_type": "display_data"
    }
   ],
   "source": [
    "# Group by flight phase and sum total injuries\n",
    "phase_risks = df_cleaned.groupby('Broad_phase_of_flight')['Total_Injuries'].sum().sort_values(ascending=False)\n",
    "plt.figure(figsize=(10,6))\n",
    "sns.barplot(x=phase_risks.index, y=phase_risks.values, palette='magma')\n",
    "plt.xticks(rotation=45)\n",
    "plt.title('Total Injuries by Phase of Flight')\n",
    "plt.ylabel('Total Injuries')\n",
    "plt.xlabel('Flight Phase')\n",
    "plt.tight_layout()\n",
    "plt.show()\n"
   ]
  },
  {
   "cell_type": "code",
   "execution_count": 27,
   "metadata": {},
   "outputs": [
    {
     "data": {
      "text/html": [
       "<div>\n",
       "<style scoped>\n",
       "    .dataframe tbody tr th:only-of-type {\n",
       "        vertical-align: middle;\n",
       "    }\n",
       "\n",
       "    .dataframe tbody tr th {\n",
       "        vertical-align: top;\n",
       "    }\n",
       "\n",
       "    .dataframe thead th {\n",
       "        text-align: right;\n",
       "    }\n",
       "</style>\n",
       "<table border=\"1\" class=\"dataframe\">\n",
       "  <thead>\n",
       "    <tr style=\"text-align: right;\">\n",
       "      <th></th>\n",
       "      <th>mean</th>\n",
       "      <th>median</th>\n",
       "      <th>std</th>\n",
       "    </tr>\n",
       "    <tr>\n",
       "      <th>Aircraft_Category</th>\n",
       "      <th></th>\n",
       "      <th></th>\n",
       "      <th></th>\n",
       "    </tr>\n",
       "  </thead>\n",
       "  <tbody>\n",
       "    <tr>\n",
       "      <th>Unknown</th>\n",
       "      <td>1.142857</td>\n",
       "      <td>0.5</td>\n",
       "      <td>1.994498</td>\n",
       "    </tr>\n",
       "    <tr>\n",
       "      <th>WSFT</th>\n",
       "      <td>1.111111</td>\n",
       "      <td>1.0</td>\n",
       "      <td>0.927961</td>\n",
       "    </tr>\n",
       "    <tr>\n",
       "      <th>Rocket</th>\n",
       "      <td>1.000000</td>\n",
       "      <td>1.0</td>\n",
       "      <td>NaN</td>\n",
       "    </tr>\n",
       "    <tr>\n",
       "      <th>Airplane</th>\n",
       "      <td>0.655529</td>\n",
       "      <td>0.0</td>\n",
       "      <td>5.943002</td>\n",
       "    </tr>\n",
       "    <tr>\n",
       "      <th>Helicopter</th>\n",
       "      <td>0.582569</td>\n",
       "      <td>0.0</td>\n",
       "      <td>1.383069</td>\n",
       "    </tr>\n",
       "    <tr>\n",
       "      <th>Ultralight</th>\n",
       "      <td>0.416667</td>\n",
       "      <td>0.0</td>\n",
       "      <td>0.653863</td>\n",
       "    </tr>\n",
       "    <tr>\n",
       "      <th>Weight-Shift</th>\n",
       "      <td>0.416149</td>\n",
       "      <td>0.0</td>\n",
       "      <td>0.637956</td>\n",
       "    </tr>\n",
       "    <tr>\n",
       "      <th>Gyrocraft</th>\n",
       "      <td>0.287582</td>\n",
       "      <td>0.0</td>\n",
       "      <td>0.546197</td>\n",
       "    </tr>\n",
       "    <tr>\n",
       "      <th>Glider</th>\n",
       "      <td>0.235154</td>\n",
       "      <td>0.0</td>\n",
       "      <td>0.501711</td>\n",
       "    </tr>\n",
       "    <tr>\n",
       "      <th>Balloon</th>\n",
       "      <td>0.223958</td>\n",
       "      <td>0.0</td>\n",
       "      <td>1.293094</td>\n",
       "    </tr>\n",
       "    <tr>\n",
       "      <th>Powered Parachute</th>\n",
       "      <td>0.164835</td>\n",
       "      <td>0.0</td>\n",
       "      <td>0.428531</td>\n",
       "    </tr>\n",
       "    <tr>\n",
       "      <th>Blimp</th>\n",
       "      <td>0.000000</td>\n",
       "      <td>0.0</td>\n",
       "      <td>NaN</td>\n",
       "    </tr>\n",
       "    <tr>\n",
       "      <th>Powered-Lift</th>\n",
       "      <td>0.000000</td>\n",
       "      <td>0.0</td>\n",
       "      <td>0.000000</td>\n",
       "    </tr>\n",
       "    <tr>\n",
       "      <th>ULTR</th>\n",
       "      <td>0.000000</td>\n",
       "      <td>0.0</td>\n",
       "      <td>NaN</td>\n",
       "    </tr>\n",
       "    <tr>\n",
       "      <th>UNK</th>\n",
       "      <td>0.000000</td>\n",
       "      <td>0.0</td>\n",
       "      <td>0.000000</td>\n",
       "    </tr>\n",
       "  </tbody>\n",
       "</table>\n",
       "</div>"
      ],
      "text/plain": [
       "                       mean  median       std\n",
       "Aircraft_Category                            \n",
       "Unknown            1.142857     0.5  1.994498\n",
       "WSFT               1.111111     1.0  0.927961\n",
       "Rocket             1.000000     1.0       NaN\n",
       "Airplane           0.655529     0.0  5.943002\n",
       "Helicopter         0.582569     0.0  1.383069\n",
       "Ultralight         0.416667     0.0  0.653863\n",
       "Weight-Shift       0.416149     0.0  0.637956\n",
       "Gyrocraft          0.287582     0.0  0.546197\n",
       "Glider             0.235154     0.0  0.501711\n",
       "Balloon            0.223958     0.0  1.293094\n",
       "Powered Parachute  0.164835     0.0  0.428531\n",
       "Blimp              0.000000     0.0       NaN\n",
       "Powered-Lift       0.000000     0.0  0.000000\n",
       "ULTR               0.000000     0.0       NaN\n",
       "UNK                0.000000     0.0  0.000000"
      ]
     },
     "execution_count": 27,
     "metadata": {},
     "output_type": "execute_result"
    }
   ],
   "source": [
    "# mean, median, std of Total_Fatal_Injuries\n",
    "risk_stats = df_cleaned.groupby('Aircraft_Category')['Total_Fatal_Injuries'].agg(['mean', 'median', 'std']).sort_values(by='mean', ascending=False)\n",
    "risk_stats\n"
   ]
  },
  {
   "cell_type": "code",
   "execution_count": 28,
   "metadata": {},
   "outputs": [
    {
     "data": {
      "text/html": [
       "<div>\n",
       "<style scoped>\n",
       "    .dataframe tbody tr th:only-of-type {\n",
       "        vertical-align: middle;\n",
       "    }\n",
       "\n",
       "    .dataframe tbody tr th {\n",
       "        vertical-align: top;\n",
       "    }\n",
       "\n",
       "    .dataframe thead th {\n",
       "        text-align: right;\n",
       "    }\n",
       "</style>\n",
       "<table border=\"1\" class=\"dataframe\">\n",
       "  <thead>\n",
       "    <tr style=\"text-align: right;\">\n",
       "      <th></th>\n",
       "      <th>mean</th>\n",
       "      <th>median</th>\n",
       "      <th>std</th>\n",
       "    </tr>\n",
       "    <tr>\n",
       "      <th>Aircraft_Category</th>\n",
       "      <th></th>\n",
       "      <th></th>\n",
       "      <th></th>\n",
       "    </tr>\n",
       "  </thead>\n",
       "  <tbody>\n",
       "    <tr>\n",
       "      <th>Unknown</th>\n",
       "      <td>1.142857</td>\n",
       "      <td>0.5</td>\n",
       "      <td>1.994498</td>\n",
       "    </tr>\n",
       "    <tr>\n",
       "      <th>WSFT</th>\n",
       "      <td>1.111111</td>\n",
       "      <td>1.0</td>\n",
       "      <td>0.927961</td>\n",
       "    </tr>\n",
       "    <tr>\n",
       "      <th>Airplane</th>\n",
       "      <td>0.655529</td>\n",
       "      <td>0.0</td>\n",
       "      <td>5.943002</td>\n",
       "    </tr>\n",
       "    <tr>\n",
       "      <th>Helicopter</th>\n",
       "      <td>0.582569</td>\n",
       "      <td>0.0</td>\n",
       "      <td>1.383069</td>\n",
       "    </tr>\n",
       "    <tr>\n",
       "      <th>Ultralight</th>\n",
       "      <td>0.416667</td>\n",
       "      <td>0.0</td>\n",
       "      <td>0.653863</td>\n",
       "    </tr>\n",
       "    <tr>\n",
       "      <th>Weight-Shift</th>\n",
       "      <td>0.416149</td>\n",
       "      <td>0.0</td>\n",
       "      <td>0.637956</td>\n",
       "    </tr>\n",
       "    <tr>\n",
       "      <th>Gyrocraft</th>\n",
       "      <td>0.287582</td>\n",
       "      <td>0.0</td>\n",
       "      <td>0.546197</td>\n",
       "    </tr>\n",
       "    <tr>\n",
       "      <th>Glider</th>\n",
       "      <td>0.235154</td>\n",
       "      <td>0.0</td>\n",
       "      <td>0.501711</td>\n",
       "    </tr>\n",
       "    <tr>\n",
       "      <th>Balloon</th>\n",
       "      <td>0.223958</td>\n",
       "      <td>0.0</td>\n",
       "      <td>1.293094</td>\n",
       "    </tr>\n",
       "    <tr>\n",
       "      <th>Powered Parachute</th>\n",
       "      <td>0.164835</td>\n",
       "      <td>0.0</td>\n",
       "      <td>0.428531</td>\n",
       "    </tr>\n",
       "    <tr>\n",
       "      <th>Powered-Lift</th>\n",
       "      <td>0.000000</td>\n",
       "      <td>0.0</td>\n",
       "      <td>0.000000</td>\n",
       "    </tr>\n",
       "    <tr>\n",
       "      <th>UNK</th>\n",
       "      <td>0.000000</td>\n",
       "      <td>0.0</td>\n",
       "      <td>0.000000</td>\n",
       "    </tr>\n",
       "  </tbody>\n",
       "</table>\n",
       "</div>"
      ],
      "text/plain": [
       "                       mean  median       std\n",
       "Aircraft_Category                            \n",
       "Unknown            1.142857     0.5  1.994498\n",
       "WSFT               1.111111     1.0  0.927961\n",
       "Airplane           0.655529     0.0  5.943002\n",
       "Helicopter         0.582569     0.0  1.383069\n",
       "Ultralight         0.416667     0.0  0.653863\n",
       "Weight-Shift       0.416149     0.0  0.637956\n",
       "Gyrocraft          0.287582     0.0  0.546197\n",
       "Glider             0.235154     0.0  0.501711\n",
       "Balloon            0.223958     0.0  1.293094\n",
       "Powered Parachute  0.164835     0.0  0.428531\n",
       "Powered-Lift       0.000000     0.0  0.000000\n",
       "UNK                0.000000     0.0  0.000000"
      ]
     },
     "execution_count": 28,
     "metadata": {},
     "output_type": "execute_result"
    }
   ],
   "source": [
    "# Drop rows with NaN in statistics\n",
    "risk_stats_cleaned = risk_stats.dropna()\n",
    "risk_stats_cleaned\n"
   ]
  },
  {
   "cell_type": "code",
   "execution_count": 29,
   "metadata": {},
   "outputs": [
    {
     "data": {
      "image/png": "[encoded data removed]",
      "text/plain": [
       "<Figure size 864x432 with 1 Axes>"
      ]
     },
     "metadata": {
      "needs_background": "light"
     },
     "output_type": "display_data"
    }
   ],
   "source": [
    "import matplotlib.pyplot as plt\n",
    "import seaborn as sns\n",
    "risk_stats_cleaned_sorted = risk_stats_cleaned.sort_values(by='mean')\n",
    "plt.figure(figsize=(12, 6))\n",
    "sns.barplot(x=risk_stats_cleaned_sorted.index, y=risk_stats_cleaned_sorted['mean'], palette='viridis')\n",
    "\n",
    "plt.title('Average Fatal Injuries per Aircraft Category')\n",
    "plt.ylabel('Mean Fatal Injuries')\n",
    "plt.xlabel('Aircraft Category')\n",
    "plt.xticks(rotation=45)\n",
    "plt.grid(axis='y', linestyle='--', alpha=0.7)\n",
    "\n",
    "plt.tight_layout()\n",
    "plt.show()\n"
   ]
  },
  {
   "cell_type": "markdown",
   "metadata": {},
   "source": [
    "1. Low-Risk Aircraft (Good for Business)\n",
    "-lowest bars on the graph (i.e., aircraft types with the lowest mean fatal injuries).\n",
    "\n",
    "Powered Parachute, Weight-Shift, Ultralight, Glider\n",
    "\n",
    "-These are candidates for low operational risk and good entry points for the company.\n",
    "\n",
    "2. High-Risk Aircraft\n",
    "The highest means and/or very high standard deviation, e.g.:\n",
    "-Airplane & Helicopter\n",
    "\n",
    "-These might require more certification, experienced pilots, and high insurance premiums"
   ]
  },
  {
   "cell_type": "markdown",
   "metadata": {},
   "source": [
    "# Business Recommendation\n",
    "    -Based on analysis of aircraft incident data, the categories such as Powered Parachute, Weight-Shift, and Glider consistently show the lowest mean fatal injuries, making them ideal for low-risk entry into the aviation industry. \n",
    "    -In contrast, Airplanes and Helicopters, while common, have significantly higher injury rates, suggesting the need for more stringent safety measures and risk assessments before investment"
   ]
  },
  {
   "cell_type": "code",
   "execution_count": 30,
   "metadata": {},
   "outputs": [],
   "source": [
    "df_cleaned.to_csv('aircraft_cleaned_data.csv', index=False)\n"
   ]
  },
  {
   "cell_type": "markdown",
   "metadata": {},
   "source": [
    "# Injury serverity Distribution.\n"
   ]
  },
  {
   "cell_type": "code",
   "execution_count": 31,
   "metadata": {
    "scrolled": true
   },
   "outputs": [
    {
     "data": {
      "image/png": "[encoded data removed]",
      "text/plain": [
       "<Figure size 1152x576 with 1 Axes>"
      ]
     },
     "metadata": {
      "needs_background": "light"
     },
     "output_type": "display_data"
    }
   ],
   "source": [
    "plt.figure(figsize=(16, 8)) \n",
    "sns.barplot(x=risk_stats_cleaned_sorted.index, y=risk_stats_cleaned_sorted['mean'], palette='viridis')\n",
    "\n",
    "plt.title('Average Fatal Injuries per Aircraft Category', fontsize=20)\n",
    "plt.xlabel('Aircraft Category', fontsize=16)\n",
    "plt.ylabel('Mean Fatal Injuries', fontsize=16)\n",
    "plt.xticks(rotation=45, fontsize=14, ha='right') \n",
    "plt.yticks(fontsize=14)\n",
    "\n",
    "plt.grid(axis='y', linestyle='--', alpha=0.7)\n",
    "plt.tight_layout()\n",
    "plt.show()\n",
    "\n"
   ]
  },
  {
   "cell_type": "markdown",
   "metadata": {},
   "source": [
    "# Injuries by Purpose of Flight"
   ]
  },
  {
   "cell_type": "code",
   "execution_count": 32,
   "metadata": {},
   "outputs": [
    {
     "data": {
      "image/png": "[encoded data removed]",
      "text/plain": [
       "<Figure size 864x432 with 1 Axes>"
      ]
     },
     "metadata": {
      "needs_background": "light"
     },
     "output_type": "display_data"
    }
   ],
   "source": [
    "# Group and mean fatal injuries by Purpose_of_flight\n",
    "purpose_injuries = df_cleaned.groupby('Purpose_of_flight')['Total_Fatal_Injuries'].mean().sort_values(ascending=False)\n",
    "\n",
    "# Plot\n",
    "plt.figure(figsize=(12, 6))\n",
    "sns.barplot(x=purpose_injuries.index, y=purpose_injuries.values, palette='magma')\n",
    "plt.title('Average Fatal Injuries by Purpose of Flight')\n",
    "plt.ylabel('Mean Fatal Injuries')\n",
    "plt.xlabel('Purpose of Flight')\n",
    "plt.xticks(rotation=45, ha='right', fontsize=10)\n",
    "plt.tight_layout()\n",
    "plt.grid(axis='y', linestyle='--', alpha=0.7)\n",
    "plt.show()\n"
   ]
  },
  {
   "cell_type": "markdown",
   "metadata": {},
   "source": [
    "    ###Phase of flight Analysis"
   ]
  },
  {
   "cell_type": "code",
   "execution_count": 33,
   "metadata": {},
   "outputs": [
    {
     "data": {
      "image/png": "[encoded data removed]",
      "text/plain": [
       "<Figure size 864x432 with 1 Axes>"
      ]
     },
     "metadata": {
      "needs_background": "light"
     },
     "output_type": "display_data"
    }
   ],
   "source": [
    "#groupby\n",
    "phase_injuries = df_cleaned.groupby('Broad_phase_of_flight')['Total_Fatal_Injuries'].mean().sort_values(ascending=False)\n",
    "\n",
    "# Plot\n",
    "plt.figure(figsize=(12, 6))\n",
    "sns.barplot(x=phase_injuries.index, y=phase_injuries.values, palette='coolwarm')\n",
    "plt.title('Average Fatal Injuries by Phase of Flight')\n",
    "plt.ylabel('Mean Fatal Injuries')\n",
    "plt.xlabel('Phase of Flight')\n",
    "plt.xticks(rotation=45, ha='right', fontsize=10)\n",
    "plt.tight_layout()\n",
    "plt.grid(axis='y', linestyle='--', alpha=0.7)\n",
    "plt.show()\n"
   ]
  },
  {
   "cell_type": "markdown",
   "metadata": {},
   "source": [
    "### Weather Condition Analysis"
   ]
  },
  {
   "cell_type": "code",
   "execution_count": 34,
   "metadata": {},
   "outputs": [
    {
     "data": {
      "image/png": "[encoded data removed]",
      "text/plain": [
       "<Figure size 576x360 with 1 Axes>"
      ]
     },
     "metadata": {
      "needs_background": "light"
     },
     "output_type": "display_data"
    }
   ],
   "source": [
    "\n",
    "weather_injuries = df_cleaned.groupby('Weather_Condition')['Total_Fatal_Injuries'].mean().sort_values(ascending=False)\n",
    "\n",
    "# Plot\n",
    "plt.figure(figsize=(8, 5))\n",
    "sns.barplot(x=weather_injuries.index, y=weather_injuries.values, palette='cubehelix')\n",
    "plt.title('Average Fatal Injuries by Weather Condition')\n",
    "plt.ylabel('Mean Fatal Injuries')\n",
    "plt.xlabel('Weather Condition')\n",
    "plt.tight_layout()\n",
    "plt.grid(axis='y', linestyle='--', alpha=0.7)\n",
    "plt.show()\n"
   ]
  },
  {
   "cell_type": "code",
   "execution_count": 35,
   "metadata": {},
   "outputs": [],
   "source": [
    "# Export purpose_of_flight summary\n",
    "purpose_injuries.to_csv('purpose_fatal_injuries_summary.csv')\n",
    "\n"
   ]
  },
  {
   "cell_type": "code",
   "execution_count": 36,
   "metadata": {},
   "outputs": [],
   "source": [
    "# Export phase of flight summary\n",
    "phase_injuries.to_csv('phase_fatal_injuries_summary.csv')\n"
   ]
  },
  {
   "cell_type": "code",
   "execution_count": 37,
   "metadata": {},
   "outputs": [],
   "source": [
    "# Export weather condition summary\n",
    "weather_injuries.to_csv('weather_fatal_injuries_summary.csv')"
   ]
  }
 ],
 "metadata": {
  "kernelspec": {
   "display_name": "Python 3",
   "language": "python",
   "name": "python3"
  },
  "language_info": {
   "codemirror_mode": {
    "name": "ipython",
    "version": 3
   },
   "file_extension": ".py",
   "mimetype": "text/x-python",
   "name": "python",
   "nbconvert_exporter": "python",
   "pygments_lexer": "ipython3",
   "version": "3.8.5"
  }
 },
 "nbformat": 4,
 "nbformat_minor": 4
}
